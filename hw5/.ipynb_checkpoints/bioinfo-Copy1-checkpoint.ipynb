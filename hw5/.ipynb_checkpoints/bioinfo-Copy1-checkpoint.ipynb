{
 "cells": [
  {
   "cell_type": "code",
   "execution_count": 144,
   "metadata": {},
   "outputs": [],
   "source": [
    "import numpy as np\n",
    "from matplotlib import pyplot as plt"
   ]
  },
  {
   "cell_type": "code",
   "execution_count": 145,
   "metadata": {},
   "outputs": [],
   "source": [
    "def partition(data, centres, beta):\n",
    "  hidden_matrixT = np.zeros((data.shape[0], centers.shape[0]))\n",
    "  for i in range(len(data)):\n",
    "    for j in range(len(centers)):\n",
    "      hidden_matrixT[i][j] = np.exp(-beta*np.sum((data[i] - centers[j])**2))\n",
    "    \n",
    "    total = np.sum(hidden_matrixT[i])\n",
    "    for j in range(len(centers)):\n",
    "      hidden_matrixT[i][j] /= total\n",
    "  return hidden_matrixT"
   ]
  },
  {
   "cell_type": "code",
   "execution_count": 146,
   "metadata": {},
   "outputs": [],
   "source": [
    "def newtonian(data, centres):\n",
    "  hidden_matrixT = np.zeros((data.shape[0], centers.shape[0]))\n",
    "  for i in range(len(data)):\n",
    "    for j in range(len(centers)):\n",
    "      hidden_matrixT[i][j] = 1/np.sum((data[i] - centers[j])**2)\n",
    "    \n",
    "    total = np.sum(hidden_matrixT[i])\n",
    "    for j in range(len(centers)):\n",
    "      hidden_matrixT[i][j] /= total\n",
    "  return hidden_matrixT"
   ]
  },
  {
   "cell_type": "code",
   "execution_count": 147,
   "metadata": {},
   "outputs": [],
   "source": [
    "def update_centers(data, hidden_matrix):\n",
    "  return (hidden_matrix @ data) / (hidden_matrix @ np.ones(data.shape))  "
   ]
  },
  {
   "cell_type": "code",
   "execution_count": 148,
   "metadata": {},
   "outputs": [],
   "source": [
    "data = np.array([\n",
    "  [0.1, 0.2],\n",
    "  [0.2, 0.1],\n",
    "  [0.3,0],\n",
    "  [1, 1.2],\n",
    "  [0.8, 1],\n",
    "  [9, 0.1],\n",
    "])"
   ]
  },
  {
   "cell_type": "code",
   "execution_count": 149,
   "metadata": {},
   "outputs": [],
   "source": [
    "centers = np.array([\n",
    "  [0.1, 0.9],\n",
    "  [0.5, 0],\n",
    "  [0.9, 0.5]\n",
    "])"
   ]
  },
  {
   "cell_type": "code",
   "execution_count": 150,
   "metadata": {},
   "outputs": [
    {
     "data": {
      "image/png": "[encoded data removed]",
      "text/plain": [
       "<Figure size 432x288 with 1 Axes>"
      ]
     },
     "metadata": {
      "needs_background": "light"
     },
     "output_type": "display_data"
    }
   ],
   "source": [
    "x, y = data.T\n",
    "xc, yc = centers.T \n",
    "plt.scatter(x,y)\n",
    "plt.scatter(xc,yc)\n",
    "plt.show()"
   ]
  },
  {
   "cell_type": "code",
   "execution_count": 151,
   "metadata": {},
   "outputs": [],
   "source": [
    "hidden_matrix = newtonian(data, centers).T"
   ]
  },
  {
   "cell_type": "code",
   "execution_count": 152,
   "metadata": {},
   "outputs": [
    {
     "data": {
      "text/plain": [
       "array([[0.24264584, 0.5944823 , 0.16287186],\n",
       "       [0.11764706, 0.76470588, 0.11764706],\n",
       "       [0.04229503, 0.89876928, 0.05893569],\n",
       "       [0.30007102, 0.15980114, 0.54012784],\n",
       "       [0.29570117, 0.13564274, 0.56865609],\n",
       "       [0.30128497, 0.33293115, 0.36578387]])"
      ]
     },
     "execution_count": 152,
     "metadata": {},
     "output_type": "execute_result"
    }
   ],
   "source": [
    "hidden_matrix.T"
   ]
  },
  {
   "cell_type": "code",
   "execution_count": 153,
   "metadata": {},
   "outputs": [],
   "source": [
    "centers = update_centers(data, hidden_matrix)"
   ]
  },
  {
   "cell_type": "code",
   "execution_count": 154,
   "metadata": {},
   "outputs": [
    {
     "data": {
      "text/plain": [
       "array([[2.54583291, 0.5741635 ],\n",
       "       [1.29808881, 0.19265426],\n",
       "       [2.39501167, 0.7153864 ]])"
      ]
     },
     "execution_count": 154,
     "metadata": {},
     "output_type": "execute_result"
    }
   ],
   "source": [
    "centers"
   ]
  },
  {
   "cell_type": "code",
   "execution_count": 155,
   "metadata": {},
   "outputs": [
    {
     "data": {
      "image/png": "[encoded data removed]",
      "text/plain": [
       "<Figure size 432x288 with 1 Axes>"
      ]
     },
     "metadata": {
      "needs_background": "light"
     },
     "output_type": "display_data"
    }
   ],
   "source": [
    "x, y = data.T\n",
    "xc, yc = centers.T \n",
    "plt.scatter(x,y)\n",
    "plt.scatter(xc,yc)\n",
    "plt.show()"
   ]
  },
  {
   "cell_type": "code",
   "execution_count": null,
   "metadata": {},
   "outputs": [],
   "source": []
  },
  {
   "cell_type": "code",
   "execution_count": null,
   "metadata": {},
   "outputs": [],
   "source": []
  }
 ],
 "metadata": {
  "kernelspec": {
   "display_name": "Python 3 (ipykernel)",
   "language": "python",
   "name": "python3"
  },
  "language_info": {
   "codemirror_mode": {
    "name": "ipython",
    "version": 3
   },
   "file_extension": ".py",
   "mimetype": "text/x-python",
   "name": "python",
   "nbconvert_exporter": "python",
   "pygments_lexer": "ipython3",
   "version": "3.8.5"
  }
 },
 "nbformat": 4,
 "nbformat_minor": 4
}
